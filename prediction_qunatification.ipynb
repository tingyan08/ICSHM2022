{
 "cells": [
  {
   "cell_type": "code",
   "execution_count": 16,
   "metadata": {},
   "outputs": [],
   "source": [
    "import os\n",
    "import scipy\n",
    "import torch\n",
    "import numpy as np\n",
    "import pandas as pd\n",
    "from model.classification import ResNet18, ResNet18_finetune"
   ]
  },
  {
   "cell_type": "code",
   "execution_count": 10,
   "metadata": {},
   "outputs": [],
   "source": [
    "def sliding_window(signal, window, stride):\n",
    "    length = signal.shape[-1]\n",
    "    start = []\n",
    "    i = 0\n",
    "    x = []\n",
    "    while i < length-window:\n",
    "        x.append(signal[:, i:i+window])\n",
    "        start.append(i)\n",
    "        i += stride\n",
    "    if start[-1] < length - window:\n",
    "        x.append(signal[:, length-1024:length])\n",
    "        start.append(length-1024)\n",
    "    return x"
   ]
  },
  {
   "cell_type": "code",
   "execution_count": 11,
   "metadata": {},
   "outputs": [],
   "source": [
    "\n",
    "def min_max_scaler(signal):\n",
    "    min_max = pd.read_csv(\"./RawData/Displacement/min_max.csv\").values\n",
    "    new_signal = np.copy(signal)\n",
    "    for i in range(signal.shape[0]):\n",
    "        if len(np.unique(signal[i, :] )) != 1:\n",
    "            new_signal[i, :] = (signal[i, :] - min_max[i][0])/(min_max[i][1] - min_max[i][0])\n",
    "    return new_signal"
   ]
  },
  {
   "cell_type": "code",
   "execution_count": 65,
   "metadata": {},
   "outputs": [],
   "source": [
    "name, _, _ = scipy.io.whosmat(\"./RawData/Displacement/test/test_1.mat\")[0]\n",
    "data = scipy.io.loadmat(\"./RawData/Displacement/test/test_1.mat\")[name]\n",
    "normalized_data = min_max_scaler(data)\n",
    "data_list = sliding_window(normalized_data, window=1024, stride=128)"
   ]
  },
  {
   "cell_type": "code",
   "execution_count": 66,
   "metadata": {},
   "outputs": [
    {
     "data": {
      "text/plain": [
       "<All keys matched successfully>"
      ]
     },
     "execution_count": 66,
     "metadata": {},
     "output_type": "execute_result"
    }
   ],
   "source": [
    "state_dict = torch.load(\"./Logs/Identification/classification-Displacement-synthetic-ResNet18_finetune/finetune/version_0/checkpoints/epoch=00092-val_acc=0.7759.ckpt\")[\"state_dict\"]\n",
    "model = ResNet18_finetune().to(\"cuda\").eval()\n",
    "model.load_state_dict(state_dict=state_dict)"
   ]
  },
  {
   "cell_type": "code",
   "execution_count": 67,
   "metadata": {},
   "outputs": [],
   "source": [
    "softmax = torch.nn.Softmax(dim=1)\n",
    "scenario = pd.read_csv(\"./RawData/Displacement/scenario.csv\").values\n",
    "prediction_list = []\n",
    "\n",
    "for i in range(1, 7):\n",
    "    name, _, _ = scipy.io.whosmat(f\"./RawData/Displacement/test/test_{i}.mat\")[0]\n",
    "    data = scipy.io.loadmat(f\"./RawData/Displacement/test/test_{i}.mat\")[name]\n",
    "    normalized_data = min_max_scaler(data)\n",
    "    data_list = sliding_window(normalized_data, window=1024, stride=128)\n",
    "    input = np.concatenate([data_list])\n",
    "    with torch.no_grad():\n",
    "        input = torch.tensor(input, dtype=torch.float32).to(\"cuda\")\n",
    "        prediction = torch.argmax(softmax(model(input)), dim=1).cpu().numpy()\n",
    "        unique, count = np.unique(prediction, return_counts=True)\n",
    "        predict_scenario = np.argmax(count)\n",
    "        target = scenario[scenario[:, 0] == predict_scenario][0, 1:4]\n",
    "        prediction_list.append(target)"
   ]
  },
  {
   "cell_type": "code",
   "execution_count": 68,
   "metadata": {},
   "outputs": [],
   "source": [
    "final_prediction = np.concatenate([prediction_list])"
   ]
  },
  {
   "cell_type": "code",
   "execution_count": 71,
   "metadata": {},
   "outputs": [],
   "source": [
    "np.savetxt(\"./prediction/identification/project3_damage_task.txt\", final_prediction, fmt='%f', delimiter=\",\")"
   ]
  },
  {
   "cell_type": "code",
   "execution_count": null,
   "metadata": {},
   "outputs": [],
   "source": []
  }
 ],
 "metadata": {
  "kernelspec": {
   "display_name": "icshm",
   "language": "python",
   "name": "python3"
  },
  "language_info": {
   "codemirror_mode": {
    "name": "ipython",
    "version": 3
   },
   "file_extension": ".py",
   "mimetype": "text/x-python",
   "name": "python",
   "nbconvert_exporter": "python",
   "pygments_lexer": "ipython3",
   "version": "3.10.8"
  },
  "orig_nbformat": 4
 },
 "nbformat": 4,
 "nbformat_minor": 2
}
