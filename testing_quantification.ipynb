{
 "cells": [
  {
   "attachments": {},
   "cell_type": "markdown",
   "metadata": {},
   "source": [
    "## Displacement"
   ]
  },
  {
   "cell_type": "code",
   "execution_count": 1,
   "metadata": {},
   "outputs": [
    {
     "name": "stderr",
     "output_type": "stream",
     "text": [
      "/home/tingyan/.conda/envs/icshm/lib/python3.10/site-packages/tqdm/auto.py:22: TqdmWarning: IProgress not found. Please update jupyter and ipywidgets. See https://ipywidgets.readthedocs.io/en/stable/user_install.html\n",
      "  from .autonotebook import tqdm as notebook_tqdm\n"
     ]
    }
   ],
   "source": [
    "import os\n",
    "import torch\n",
    "import numpy as np\n",
    "import pandas as pd\n",
    "import matplotlib.pyplot as plt\n",
    "from model.Displacement.regression import CNN\n",
    "from dataset.Displacement.DamageIdentification import DamageIdentificationDataset\n",
    "from torch.utils.data import DataLoader"
   ]
  },
  {
   "cell_type": "code",
   "execution_count": 2,
   "metadata": {},
   "outputs": [],
   "source": [
    "mode = \"test\"\n",
    "dataset = DamageIdentificationDataset(path=\"./Data\", mode=mode)\n",
    "dataloader = DataLoader(dataset, batch_size=32, shuffle=False)"
   ]
  },
  {
   "cell_type": "code",
   "execution_count": 3,
   "metadata": {},
   "outputs": [],
   "source": [
    "scratch = CNN.load_from_checkpoint(\"./Logs/Identification/Displacement-regression/From_scratch/version_2/checkpoints/epoch=00343-val_loss=0.0000.ckpt\").eval().to(\"cuda\")\n",
    "transfer_AE = CNN.load_from_checkpoint(\"./Logs/Identification/Displacement-regression/Transfer_AE/version_2/checkpoints/epoch=00034-val_loss=0.0197.ckpt\").eval().to(\"cuda\")\n",
    "transfer_DamageAE = CNN.load_from_checkpoint(\"./Logs/Identification/Displacement-regression/Transfer_DamageAE/version_2/checkpoints/epoch=00500-val_loss=0.0142.ckpt\").eval().to(\"cuda\")\n",
    "transfer_TripletAE = CNN.load_from_checkpoint(\"./Logs/Identification/Displacement-regression/Transfer_TripletAE/version_2/checkpoints/epoch=00497-val_loss=0.0122.ckpt\").eval().to(\"cuda\")"
   ]
  },
  {
   "cell_type": "code",
   "execution_count": 4,
   "metadata": {},
   "outputs": [],
   "source": [
    "scratch_prediction = []\n",
    "AE_prediction = []\n",
    "dAE_prediction = []\n",
    "tAE_prediction = []\n",
    "\n",
    "target_list = []\n",
    "situation_list = []\n",
    "\n",
    "for input, target, situation in dataloader:\n",
    "    with torch.no_grad():\n",
    "        input = input.to(\"cuda\")       \n",
    "        scratch_prediction += scratch(input).unsqueeze(0)\n",
    "        AE_prediction += transfer_AE(input).unsqueeze(0)\n",
    "        dAE_prediction += transfer_DamageAE(input).unsqueeze(0)\n",
    "        tAE_prediction += transfer_TripletAE(input).unsqueeze(0)\n",
    "\n",
    "        target_list += target.unsqueeze(0)\n",
    "        situation_list += situation.unsqueeze(0)\n",
    "\n",
    "scratch_prediction = torch.concat(scratch_prediction).cpu().numpy()\n",
    "AE_prediction = torch.concat(AE_prediction).cpu().numpy()\n",
    "dAE_prediction = torch.concat(dAE_prediction).cpu().numpy()\n",
    "tAE_prediction = torch.concat(tAE_prediction).cpu().numpy()\n",
    "\n",
    "target_list = torch.concat(target_list).cpu().numpy()\n",
    "situation_list = torch.concat(situation_list).cpu().numpy()"
   ]
  },
  {
   "cell_type": "code",
   "execution_count": 11,
   "metadata": {},
   "outputs": [],
   "source": [
    "from scipy.stats import norm\n",
    "\n",
    "def draw_predition_distribution(pred, target_list, id, model_name, mode):\n",
    "    index = situation_list == id\n",
    "    plt.rcParams['text.usetex'] = True\n",
    "    plt.rcParams['text.latex.preamble'] = r'\\centering'\n",
    "    pred = scratch_prediction[index]\n",
    "    max_value, min_value = pred.max(), pred.min()\n",
    "    pred_no7, pred_no22, pred_no38 = pred[:, 0], pred[:, 1], pred[:, 2]\n",
    "    target_no7, target_no22, target_no38 = target_list[index][0][0], target_list[index][0][1], target_list[index][0][2]\n",
    "\n",
    "    (mu_no7, sigma_no7) = norm.fit(pred_no7)\n",
    "    (mu_no22, sigma_no22) = norm.fit(pred_no22)\n",
    "    (mu_no38, sigma_no38) = norm.fit(pred_no38)\n",
    "\n",
    "    fig, ax = plt.subplots(figsize=(6, 6))\n",
    "\n",
    "    ax.hist(pred_no7, 10, density=True, range=(min_value, max_value), facecolor='tab:blue', alpha=0.5)\n",
    "    ax.hist(pred_no22, 10, density=True, range=(min_value, max_value), facecolor='tab:orange', alpha=0.5)\n",
    "    ax.hist(pred_no38, 10, density=True, range=(min_value, max_value), facecolor='tab:green', alpha=0.5)\n",
    "\n",
    "    ax.axvline(x = target_no7, linestyle = \"-\", color = 'tab:blue', label = 'Target of No.7')\n",
    "    ax.axvline(x = target_no22, linestyle = \"--\", color = 'tab:orange', label = 'Target of No.22')\n",
    "    ax.axvline(x = target_no38, linestyle = \"-.\", color = 'tab:green', label = 'Target of No.38')\n",
    "\n",
    "    xmin, xmax, ymin, ymax = plt.axis()\n",
    "    x = np.linspace(xmin, xmax, 100)\n",
    "    y = norm.pdf(x, mu_no7, sigma_no7)\n",
    "    l = ax.plot(x, y, linestyle = 'dotted', color = \"tab:blue\")\n",
    "    y = norm.pdf(x, mu_no22, sigma_no22)\n",
    "    l = ax.plot(x, y, linestyle = 'dotted', color = \"tab:orange\")\n",
    "    y = norm.pdf(x, mu_no38, sigma_no38)\n",
    "    l = ax.plot(x, y, linestyle = 'dotted', color = \"tab:green\")\n",
    "    ax.set_title(\n",
    "        r'$\\mu_{no.07}=%.3f$, $\\sigma_{no.07}=%.3f;$'\n",
    "        r'$\\mu_{no.22}=%.3f$, $\\sigma_{no.22}=%.3f;$\\\\' \n",
    "        r'$\\mu_{no.38}=%.3f$, $\\sigma_{no.38}=%.3f;$' % (mu_no7, sigma_no7, mu_no22, sigma_no22, mu_no38, sigma_no38))\n",
    "    ax.set_xlabel(\"Reduction of elastic modulus\")\n",
    "    fig.suptitle(f\"Scenario {id}\", fontsize=16)\n",
    "    fig.legend(ncol = 3, bbox_to_anchor=(0.92, 0.04))\n",
    "    if not os.path.exists(f\"./pic/distribution/{model_name}/{mode}\"):\n",
    "        os.makedirs(f\"./pic/distribution/{model_name}/{mode}\")\n",
    "    plt.savefig(f\"./pic/distribution/{model_name}/{mode}/Scenario{id:02d}.svg\", bbox_inches='tight')\n",
    "    plt.savefig(f\"./pic/distribution/{model_name}/{mode}/Scenario{id:02d}.png\", bbox_inches='tight')\n",
    "    plt.close()\n",
    "\n",
    "    if (mu_no7 - 3 * sigma_no7) <= target_no7 <= (mu_no7 + 3 * sigma_no7) and (mu_no22 - 3 * sigma_no22) <= target_no22 <= (mu_no22 + 3 * sigma_no22) and (mu_no38 - 3 * sigma_no38) <= target_no38 <= mu_no38 + 3 * sigma_no38:\n",
    "        return True\n",
    "    else:\n",
    "        return False"
   ]
  },
  {
   "cell_type": "code",
   "execution_count": 12,
   "metadata": {},
   "outputs": [],
   "source": [
    "scratch = []\n",
    "AE = []\n",
    "dAE = []\n",
    "tAE = []\n",
    "for index in range(1, 12):\n",
    "    scratch.append(draw_predition_distribution(scratch_prediction, target_list, index, model_name=\"Scratch\", mode=mode))\n",
    "    AE.append(draw_predition_distribution(AE_prediction, target_list, index, model_name=\"Transfer(AE)\", mode=mode))\n",
    "    dAE.append(draw_predition_distribution(dAE_prediction, target_list, index, model_name=\"Transfer(DamageAE)\", mode=mode))\n",
    "    tAE.append(draw_predition_distribution(tAE_prediction, target_list, index, model_name=\"Transfer(TripletAE)\", mode=mode))"
   ]
  },
  {
   "cell_type": "code",
   "execution_count": 13,
   "metadata": {},
   "outputs": [
    {
     "name": "stdout",
     "output_type": "stream",
     "text": [
      "[True, False, True, True, True, True, True, True, False, True, True]\n",
      "[True, False, True, True, True, True, True, True, False, True, True]\n",
      "[True, False, True, True, True, True, True, True, False, True, True]\n",
      "[True, False, True, True, True, True, True, True, False, True, True]\n"
     ]
    }
   ],
   "source": [
    "print(scratch)\n",
    "print(AE)\n",
    "print(dAE)\n",
    "print(tAE)"
   ]
  },
  {
   "cell_type": "code",
   "execution_count": null,
   "metadata": {},
   "outputs": [],
   "source": []
  }
 ],
 "metadata": {
  "kernelspec": {
   "display_name": "icshm",
   "language": "python",
   "name": "python3"
  },
  "language_info": {
   "codemirror_mode": {
    "name": "ipython",
    "version": 3
   },
   "file_extension": ".py",
   "mimetype": "text/x-python",
   "name": "python",
   "nbconvert_exporter": "python",
   "pygments_lexer": "ipython3",
   "version": "3.10.8"
  },
  "orig_nbformat": 4
 },
 "nbformat": 4,
 "nbformat_minor": 2
}
